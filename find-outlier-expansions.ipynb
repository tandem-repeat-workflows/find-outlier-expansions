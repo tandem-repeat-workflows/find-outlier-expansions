{
 "cells": [
  {
   "cell_type": "markdown",
   "id": "79d9e8b2",
   "metadata": {},
   "source": [
    "# A workflow to find outlier expansions"
   ]
  },
  {
   "cell_type": "markdown",
   "id": "3cf51632-21a0-4b9b-a5aa-6030f0ce3c08",
   "metadata": {},
   "source": [
    "## Authors in alphabetical order"
   ]
  },
  {
   "cell_type": "markdown",
   "id": "d63abcae-3bef-4f71-8649-3b903d90179b",
   "metadata": {},
   "source": [
    "- [Madeline Couse, SickKids](mailto:madeline.couse@sickkids.ca)\n",
    "- [Giulia Del Gobbo, CHEO](mailto:gdelgobbo@cheo.on.ca)\n",
    "- [Egor Dolzhenko, PacBio](mailto:edolzhenko@pacificbiosciences.com)\n",
    "- [Adam English, BCM](mailto:adam.english@bcm.edu)\n",
    "- [Tom Mokveld, PacBio](mailto:tmokveld@pacificbiosciences.com)"
   ]
  },
  {
   "cell_type": "markdown",
   "id": "7b45e825-3da3-40d1-91fa-a1f7993cbf86",
   "metadata": {},
   "source": [
    "## Introduction"
   ]
  },
  {
   "cell_type": "markdown",
   "id": "f4d72863-baab-4ade-87ef-a110be8c03dc",
   "metadata": {},
   "source": [
    "Suppose that you want to look for repeat expansions in one or more of your case samples relative to a set of controls. Let's assume that you have already aligned the reads, ran TRGT, and merged the results into an allele database file `alleles.gz` that has three columns: repeat id, sample id, and allele sequences. Let's use the next code block to set the path to your allele database and also define ids of case samples.  "
   ]
  },
  {
   "cell_type": "code",
   "execution_count": 1,
   "id": "3d77f17c-a445-4544-894d-426addd5bcf2",
   "metadata": {},
   "outputs": [],
   "source": [
    "from pathlib import Path\n",
    "\n",
    "alleles_path = Path(\"input/alleles.gz\").resolve(strict=True)\n",
    "\n",
    "case_ids = [\"HG00280\", \"HG00438\", \"HG00621\"] # Assume that all other samples are controls"
   ]
  },
  {
   "cell_type": "markdown",
   "id": "e4621bce-1852-4f2a-9c88-becccca60e91",
   "metadata": {},
   "source": [
    "Now let's confirm that allele database file has the expected structure:"
   ]
  },
  {
   "cell_type": "code",
   "execution_count": 2,
   "id": "5f04f1ca-aa93-49b6-ae32-4b23ecfa7870",
   "metadata": {},
   "outputs": [
    {
     "name": "stdout",
     "output_type": "stream",
     "text": [
      "chr9_100000411_100000479_A\tHG00099\tAGTGATAAAGCAAGATCCTGTATCAAAAAAAAAAAAAAAAAAACTTTCTCCCTTCTTCAATTTTTTGG,AGTGATAAAGCAAGATCCTGTATCAAAAAAAAAAAAAAAAAACTTTCTCCCTTCTTCAATTTTTTGG\n",
      "chr9_100000411_100000479_A\tHG00280\tAGTGATAAAGCAAGATCCTGTATCAAAAAAAAAAAAAAAAAAACTTTCTCCCTTCTTCAATTTTTTGG,AGTGATAAAGCAAGATCCTGTATCAAAAAAAAAAAAAAAAAACTTTCTCCCTTCTTCAATTTTTTGG\n",
      "chr9_100000411_100000479_A\tHG00323\tAGTGATAAAGCAAGATCCTGTATCAAAAAAAAAAAAAAAAAACTTTCTCCCTTCTTCAATTTTTTGG,AGTGATAAAGCAAGATCCTGTATCAAAAAAAAAAAAAAAAAAAACTTTCTCCCTTCTTCAATTTTTTGG\n"
     ]
    }
   ],
   "source": [
    "! zcat < {alleles_path} | head -n 3"
   ]
  },
  {
   "cell_type": "markdown",
   "id": "22466db6-f2e4-4d30-8eed-702799c5b56f",
   "metadata": {},
   "source": [
    "Let's also create directories for temporary files and the final output:"
   ]
  },
  {
   "cell_type": "code",
   "execution_count": 3,
   "id": "31ae3b52-242a-4080-9ef6-eb9aaaf7541d",
   "metadata": {},
   "outputs": [],
   "source": [
    "scratch_path = Path(\"scratch\").mkdir(exist_ok=True)\n",
    "output_path = Path(\"output\").mkdir(exist_ok=True)"
   ]
  },
  {
   "cell_type": "markdown",
   "id": "8d027452-c8bc-40bd-b62d-746379b67230",
   "metadata": {},
   "source": [
    "## Find outliers"
   ]
  },
  {
   "cell_type": "markdown",
   "id": "c339bb5b-058b-4bee-904b-df459a902a6c",
   "metadata": {},
   "source": [
    "Let's create some code for extracting alleles from the database file."
   ]
  },
  {
   "cell_type": "code",
   "execution_count": 4,
   "id": "7a593418",
   "metadata": {},
   "outputs": [],
   "source": [
    "import gzip\n",
    "import itertools\n",
    "import numpy as np\n",
    "from collections import namedtuple\n",
    "\n",
    "RepeatRec = namedtuple(\"RepeatRec\", \"sample short_allele long_allele\")\n",
    "\n",
    "def get_repeat_recs(path):\n",
    "    def parse_alleles(group):\n",
    "        alleles = list(line.decode(\"utf8\").split() for line in group)\n",
    "        alleles = [(rec[1], rec[2].split(\",\")) for rec in alleles]\n",
    "        return alleles\n",
    "    \n",
    "    with gzip.open(path, \"r\") as file:\n",
    "        for trid, group in itertools.groupby(file, key=lambda line: line.decode(\"utf8\").split()[0]):\n",
    "            alleles = parse_alleles(group)\n",
    "            repeat_recs = [(s, [len(a) for a in als]) for s, als in alleles]\n",
    "            repeat_recs = [RepeatRec(s, min(als), max(als)) for s, als in repeat_recs]\n",
    "            \n",
    "            yield trid, repeat_recs"
   ]
  },
  {
   "cell_type": "markdown",
   "id": "3270fb4f-09a2-485f-8a63-313a40f30b82",
   "metadata": {},
   "source": [
    "The following code with resample quantiles."
   ]
  },
  {
   "cell_type": "code",
   "execution_count": 5,
   "id": "4768a2df",
   "metadata": {},
   "outputs": [],
   "source": [
    "def resample_quantiles(counts, num_resamples):\n",
    "    \"\"\"Based on https://github.com/Illumina/ExpansionHunterDenovo/blob/master/scripts/core/common.py\"\"\"\n",
    "    resamples = np.random.choice(counts, len(counts) * num_resamples)\n",
    "    resamples = np.split(resamples, num_resamples)\n",
    "\n",
    "    resampled_quantiles = []\n",
    "    for resample in resamples:\n",
    "        quantile = np.quantile(resample, 0.95)\n",
    "        resampled_quantiles.append(quantile)\n",
    "\n",
    "    return resampled_quantiles\n",
    "\n",
    "\n",
    "def get_counts_with_finite_std(counts):\n",
    "    if len(set(counts)) == 1:\n",
    "        return counts[:-1] + [counts[-1] + 0.1]\n",
    "    return counts\n",
    "\n",
    "\n",
    "def get_cutoff(quantiles):\n",
    "    mean = np.mean(quantiles)\n",
    "    std = max(1, np.std(quantiles))\n",
    "    cutoff = mean + std\n",
    "    return cutoff"
   ]
  },
  {
   "cell_type": "code",
   "execution_count": null,
   "id": "8226ca89-f1e5-4f85-8607-89ba08b85047",
   "metadata": {},
   "outputs": [],
   "source": []
  },
  {
   "cell_type": "code",
   "execution_count": 6,
   "id": "2ae5102f",
   "metadata": {},
   "outputs": [
    {
     "name": "stdout",
     "output_type": "stream",
     "text": [
      "Found 1751 hits\n"
     ]
    }
   ],
   "source": [
    "HitRec = namedtuple(\"HitRec\", \"trid sample allele_type allele_len control_range\")\n",
    "\n",
    "def get_hits(allele_type, repeat_recs):\n",
    "    assert allele_type in [\"long\", \"short\"]\n",
    "    allele_index = 2 if allele_type == \"long\" else 1\n",
    "    cases, controls = {}, []\n",
    "    for rec in repeat_recs:\n",
    "        if rec.sample in case_ids:\n",
    "            cases[rec.sample] = rec[allele_index]\n",
    "        else:\n",
    "            controls.append(rec[allele_index])\n",
    "    quantiles = resample_quantiles(controls, 100)\n",
    "    quantiles = get_counts_with_finite_std(quantiles)\n",
    "    cutoff = get_cutoff(quantiles)\n",
    "    \n",
    "    for case, allele_len in cases.items():\n",
    "        if allele_len > cutoff:\n",
    "            yield case, allele_len, (min(controls), max(controls))\n",
    "\n",
    "\n",
    "hits = []\n",
    "for trid, repeat_recs in get_repeat_recs(alleles_path):\n",
    "    for hit_type in [\"long\", \"short\"]:\n",
    "        for case, allele_len, control_range in get_hits(hit_type, repeat_recs):\n",
    "            hits.append(HitRec(trid, case, hit_type, allele_len, control_range))\n",
    "\n",
    "\n",
    "print(f\"Found {len(hits)} hits\")"
   ]
  },
  {
   "cell_type": "code",
   "execution_count": null,
   "id": "44a92112",
   "metadata": {},
   "outputs": [],
   "source": []
  },
  {
   "cell_type": "code",
   "execution_count": null,
   "id": "5690b0ab",
   "metadata": {},
   "outputs": [],
   "source": []
  }
 ],
 "metadata": {
  "kernelspec": {
   "display_name": "Python 3 (ipykernel)",
   "language": "python",
   "name": "python3"
  },
  "language_info": {
   "codemirror_mode": {
    "name": "ipython",
    "version": 3
   },
   "file_extension": ".py",
   "mimetype": "text/x-python",
   "name": "python",
   "nbconvert_exporter": "python",
   "pygments_lexer": "ipython3",
   "version": "3.10.12"
  }
 },
 "nbformat": 4,
 "nbformat_minor": 5
}
